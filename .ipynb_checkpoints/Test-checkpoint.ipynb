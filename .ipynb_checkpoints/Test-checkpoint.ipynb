{
 "cells": [
  {
   "cell_type": "code",
   "execution_count": 22,
   "metadata": {},
   "outputs": [],
   "source": [
    "import csv\n",
    "from pythainlp.summarize import summarize_text\n",
    "text = ''\n",
    "\n",
    "with open('Raw_Data.csv', newline='', encoding='utf-8') as File:  \n",
    "    reader = csv.reader(File)\n",
    "    for row in reader:\n",
    "        text += row[0]\n",
    "        text += ']\\n'"
   ]
  },
  {
   "cell_type": "code",
   "execution_count": 23,
   "metadata": {},
   "outputs": [
    {
     "data": {
      "text/plain": [
       "['ก็แอบกรี๊ดกร๊าดกับตัวเองเบาๆ', 'วุ้นเส้นสีอ่อนๆ', 'ปูอบวุ้นเส้น']"
      ]
     },
     "execution_count": 23,
     "metadata": {},
     "output_type": "execute_result"
    }
   ],
   "source": [
    "from pythainlp.summarize import summarize_text\n",
    "text='ปูอบวุ้นเส้น (500฿) -- มีเฉพาะปูไซส์นี้ในวันที่ไปค่ะ ตอนพนักงานยกมาเสิร์ฟ ก็แอบกรี๊ดกร๊าดกับตัวเองเบาๆ ว่าน่ากินมากๆๆๆ วุ้นเส้นสีอ่อนๆ แต่รสชาติกลมกล่อมกำลังดีมากๆ ไม่ต้องราดน้ำจิ้มอะไรเพิ่มเลยค่ะ ปูนี่ก็สมราคามากๆ ตัวใหญ่ ก้ามใหญ่ เนื้อแน่น สด หวาน อร่อยค่ะ อร่อยมากๆ'\n",
    "text2 = 'หอยเชลล์เผาอบเนย (140฿) -- เป็นเมนูโปรดประจำตัวค่ะ ร้านไหนมีต้องขอสั่ง ของร้านนี้ได้เป็นหอยเชลล์ตัวอวบๆ มา 8 ตัว หอยเชลล์สด เนื้อเด้ง อบมาหอมเนย หอมกระเทียม ราดน้ำจิ้มซีฟู้ดซักหน่อย อร่อยเด็ดมากๆ'\n",
    "summarize_text(text,n=3,engine='frequency')"
   ]
  },
  {
   "cell_type": "code",
   "execution_count": null,
   "metadata": {},
   "outputs": [],
   "source": []
  }
 ],
 "metadata": {
  "kernelspec": {
   "display_name": "Python 3",
   "language": "python",
   "name": "python3"
  },
  "language_info": {
   "codemirror_mode": {
    "name": "ipython",
    "version": 3
   },
   "file_extension": ".py",
   "mimetype": "text/x-python",
   "name": "python",
   "nbconvert_exporter": "python",
   "pygments_lexer": "ipython3",
   "version": "3.6.5"
  }
 },
 "nbformat": 4,
 "nbformat_minor": 2
}
